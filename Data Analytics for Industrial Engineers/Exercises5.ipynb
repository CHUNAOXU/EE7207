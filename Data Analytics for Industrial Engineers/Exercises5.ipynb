{
 "cells": [
  {
   "cell_type": "code",
   "execution_count": 1,
   "id": "50197cab",
   "metadata": {},
   "outputs": [
    {
     "ename": "SyntaxError",
     "evalue": "invalid syntax (<ipython-input-1-0a76630a4bb1>, line 7)",
     "output_type": "error",
     "traceback": [
      "\u001b[1;36m  File \u001b[1;32m\"<ipython-input-1-0a76630a4bb1>\"\u001b[1;36m, line \u001b[1;32m7\u001b[0m\n\u001b[1;33m    log_reg <- glm(default ~ income + balance, data = Default, family = 'binomial')\u001b[0m\n\u001b[1;37m                           ^\u001b[0m\n\u001b[1;31mSyntaxError\u001b[0m\u001b[1;31m:\u001b[0m invalid syntax\n"
     ]
    }
   ],
   "source": [
    "set.seed(1)\n",
    "require(ISLR); require(tidyverse); require(broom); require(knitr)\n",
    "require(ggthemes)\n",
    "theme_set(theme_tufte(base_size = 14) + theme(legend.position = 'top'))\n",
    "data('Default')\n",
    "\n",
    "log_reg <- glm(default ~ income + balance, data = Default, family = 'binomial')\n",
    "\n",
    "\n",
    "tidy(log_reg) %>%\n",
    "    kable(digits = 5)"
   ]
  },
  {
   "cell_type": "code",
   "execution_count": null,
   "id": "7179a692",
   "metadata": {},
   "outputs": [],
   "source": []
  }
 ],
 "metadata": {
  "kernelspec": {
   "display_name": "Python 3",
   "language": "python",
   "name": "python3"
  },
  "language_info": {
   "codemirror_mode": {
    "name": "ipython",
    "version": 3
   },
   "file_extension": ".py",
   "mimetype": "text/x-python",
   "name": "python",
   "nbconvert_exporter": "python",
   "pygments_lexer": "ipython3",
   "version": "3.8.8"
  }
 },
 "nbformat": 4,
 "nbformat_minor": 5
}
