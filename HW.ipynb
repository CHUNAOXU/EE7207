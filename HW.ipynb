{
 "cells": [
  {
   "cell_type": "code",
   "execution_count": 1,
   "id": "5defb8ef",
   "metadata": {
    "scrolled": true
   },
   "outputs": [
    {
     "name": "stdout",
     "output_type": "stream",
     "text": [
      "Maximum between-class variance threshold： 208\n"
     ]
    },
    {
     "data": {
      "image/png": "[encoded data removed]",
      "text/plain": [
       "<Figure size 432x288 with 4 Axes>"
      ]
     },
     "metadata": {
      "needs_background": "light"
     },
     "output_type": "display_data"
    }
   ],
   "source": [
    "import numpy as np\n",
    "import cv2\n",
    "import matplotlib.pyplot as plt\n",
    "from PIL import Image\n",
    "\n",
    "\n",
    "def gray(img): # RGB image to Gray level\n",
    "    b = img[:,:,0].copy()\n",
    "    g = img[:,:,1].copy()\n",
    "    r = img [:,:,2].copy()\n",
    "    gray_img = 0.2126*r+0.7152*g+0.0722*b\n",
    "    gray_img = gray_img.astype(np.uint8)\n",
    "    return gray_img\n",
    "\n",
    "def get_threshold(gray_img):\n",
    "    h = gray_img.shape[0]\n",
    "    w = gray_img.shape[1]\n",
    "    threshold_t = 0\n",
    "    max_g = 0\n",
    "    # Traverse every gray layer\n",
    "    for t in range(255):\n",
    "        # Use numpy to directly calculate the array\n",
    "        n0 = gray_img[np.where(gray_img < t)]\n",
    "        n1 = gray_img[np.where(gray_img>=t)]\n",
    "        w0 = len(n0)/(h*w)\n",
    "        w1 = len(n1)/(h*w)\n",
    "        u0 = np.mean(n0) if len(n0)>0 else 0\n",
    "        u1 = np.mean(n1) if len(n1)>0 else 0\n",
    "    \n",
    "        g = w0*w1*(u0-u1)**2 # calculate the variance\n",
    "        if g > max_g :\n",
    "            max_g = g\n",
    "            threshold_t = t\n",
    "    print ('Maximum between-class variance threshold：',threshold_t)\n",
    "    #gray_img[gray_img<threshold_t] = 0\n",
    "    #gray_img[gray_img>threshold_t] = 255\n",
    "    return threshold_t\n",
    "\n",
    "def otsu(img,threshold):\n",
    "    img[img<threshold] = 0\n",
    "    img[img>threshold] = 255\n",
    "    return img\n",
    " \n",
    "\n",
    "# Define the 8 neighbours of the selected pixel\n",
    "#   P9 P2 P3\n",
    "#   P8 P1 P4\n",
    "#   P7 P6 P5\n",
    "def neighbours(x, y, image):\n",
    "    '''Return 8-neighbours of point p1 of picture, in order'''\n",
    "    i = image\n",
    "    x1, y1, x_1, y_1 = x + 1, y - 1, x - 1, y + 1\n",
    "    # print ((x,y))\n",
    "    return [i[y1][x], i[y1][x1], i[y][x1], i[y_1][x1],  # P2,P3,P4,P5\n",
    "            i[y_1][x], i[y_1][x_1], i[y][x_1], i[y1][x_1]]  # P6,P7,P8,P9\n",
    "\n",
    "# Calculate the number of 0-1 transtions in the ordered equence P2, P3, ... P9\n",
    "def transitions(neighbours):\n",
    "    n = neighbours + neighbours[0:1]  # n = P2, ... P9, P2\n",
    "    return sum((n1, n2) == (0, 1) for n1, n2 in zip(n, n[1:])) # zip(n, n[1:]) = [(P2, P3), (P3, P4), ... (P9, P2)]\n",
    "\n",
    "def Two_steps(image):\n",
    "    step1 = step2 = [(-1, -1)]\n",
    "    # Repeat the steps until there is no more changing\n",
    "    while step1 or step2:\n",
    "        # Step 1  label all points fitting all the conditions\n",
    "        step1 = []\n",
    "        for y in range(1, len(image) - 1):\n",
    "            for x in range(1, len(image[0]) - 1):\n",
    "                P2, P3, P4, P5, P6, P7, P8, P9 = n = neighbours(x, y, image)\n",
    "                if (image[y][x] == 1 and         # (Condition 0)\n",
    "                        P4 * P6 * P8 == 0 and    # Condition 4\n",
    "                        P2 * P4 * P6 == 0 and    # Condition 3\n",
    "                        transitions(n) == 1 and  # Condition 2\n",
    "                        2 <= sum(n) <= 6):       # Condition 1\n",
    "                    step1.append((x, y))\n",
    "        # Delete all points in step1\n",
    "        for x, y in step1: image[y][x] = 0\n",
    "        # Step 2 label all points fitting all the conditions\n",
    "        step2 = []\n",
    "        for y in range(1, len(image) - 1):\n",
    "            for x in range(1, len(image[0]) - 1):\n",
    "                P2, P3, P4, P5, P6, P7, P8, P9 = n = neighbours(x, y, image)\n",
    "                if (image[y][x] == 1 and         # (Condition 0)\n",
    "                        P2 * P6 * P8 == 0 and    # Condition 4\n",
    "                        P2 * P4 * P8 == 0 and    # Condition 3\n",
    "                        transitions(n) == 1 and  # Condition 2\n",
    "                        2 <= sum(n) <= 6):       # Condition 1\n",
    "                    step2.append((x, y))\n",
    "        # Delete all points in step2\n",
    "        for x, y in step2: image[y][x] = 0\n",
    "    return image\n",
    "\n",
    "# Use the thin algorithm\n",
    "def thin(img):\n",
    "    a = np.array(img)\n",
    "    for i in range(np.size(a, 0)):\n",
    "        for j in range(np.size(a, 1)):\n",
    "            if a[i][j] == 0:\n",
    "                a[i][j] = 1\n",
    "            else:\n",
    "                a[i][j] = 0\n",
    "    after = Two_steps(a)\n",
    "    for i in range(np.size(after, 0)):\n",
    "        for j in range(np.size(after, 1)):\n",
    "            if after[i][j] == 1:\n",
    "                after[i][j] = 0\n",
    "            else:\n",
    "                after[i][j] = 255\n",
    "    return after\n",
    "\n",
    "\n",
    "\n",
    "if __name__ == '__main__':\n",
    "    img = cv2.imread('img5.bmp')\n",
    "    imgraw = img.copy()\n",
    "    gray_img = gray(img) \n",
    "    threshold=get_threshold(gray_img)\n",
    "    #print (threshold)\n",
    "    otsu_img = otsu(gray_img,threshold)\n",
    "    thin_img = thin(otsu_img)\n",
    "  \n",
    "    \n",
    "    \n",
    "    figure = plt.figure()  \n",
    "    plt.axis(\"off\")\n",
    "    ax = figure.add_subplot(131) \n",
    "    plt.axis('off')\n",
    "    ax.imshow(imgraw,cmap='gray')\n",
    "    ax.set_title('Raw Image')\n",
    "    ax = figure.add_subplot(132) \n",
    "    plt.axis('off')\n",
    "    ax.imshow(otsu_img,cmap='gray') \n",
    "    ax.set_title('Binary Image')\n",
    "    ax = figure.add_subplot(133) \n",
    "    plt.axis('off')\n",
    "    ax.imshow(thin_img,cmap='gray') \n",
    "    ax.set_title('Thinned Image')\n",
    "    #plt.savefig('Img6_After.jpg')\n",
    "    plt.show()\n",
    "    \n"
   ]
  },
  {
   "cell_type": "code",
   "execution_count": 2,
   "id": "2330eeb1",
   "metadata": {},
   "outputs": [
    {
     "name": "stdout",
     "output_type": "stream",
     "text": [
      "nb\n"
     ]
    }
   ],
   "source": [
    "a"
   ]
  },
  {
   "cell_type": "code",
   "execution_count": null,
   "id": "bcc87559",
   "metadata": {},
   "outputs": [],
   "source": []
  }
 ],
 "metadata": {
  "kernelspec": {
   "display_name": "Python 3",
   "language": "python",
   "name": "python3"
  },
  "language_info": {
   "codemirror_mode": {
    "name": "ipython",
    "version": 3
   },
   "file_extension": ".py",
   "mimetype": "text/x-python",
   "name": "python",
   "nbconvert_exporter": "python",
   "pygments_lexer": "ipython3",
   "version": "3.8.8"
  }
 },
 "nbformat": 4,
 "nbformat_minor": 5
}
