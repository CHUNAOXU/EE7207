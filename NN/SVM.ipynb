{
 "cells": [
  {
   "cell_type": "code",
   "execution_count": null,
   "id": "bbabb082",
   "metadata": {},
   "outputs": [],
   "source": []
  },
  {
   "cell_type": "code",
   "execution_count": 38,
   "id": "304d9d7b",
   "metadata": {},
   "outputs": [
    {
     "name": "stdout",
     "output_type": "stream",
     "text": [
      "ACC using SVM: 0.9919191589395324 | Valid: 0.9364898618865707\n",
      "Label of testing data are:\n",
      "[ 1 -1  1 -1  1 -1  1 -1  1 -1  1 -1  1 -1  1 -1  1 -1  1 -1  1]\n"
     ]
    }
   ],
   "source": [
    "import numpy as np\n",
    "import os\n",
    "from scipy.io import loadmat\n",
    "from sklearn.model_selection import KFold\n",
    "from sklearn.svm import SVC\n",
    "\n",
    "\n",
    "\n",
    "df_train = loadmat( 'data_train.mat')['data_train']\n",
    "df_test = loadmat('data_test.mat')['data_test']\n",
    "df_label = loadmat( 'label_train.mat')['label_train'].squeeze()\n",
    "K = 4\n",
    "kf = KFold(n_splits=K, shuffle=False)\n",
    "acc_train = 0\n",
    "acc_valid = 0\n",
    "best_score=0\n",
    "c_best=0\n",
    "gamma_best=0\n",
    "\n",
    "#for C in np.arange(1, 3, 0.5):\n",
    "#for gamma in np.arange(0.1, 1, 0.1):\n",
    "for train_index, valid_index in kf.split(df_label):  \n",
    "\n",
    "                model = SVC(C=2.5, kernel='rbf', gamma=0.3)\n",
    "                model.fit(df_train[train_index], df_label[train_index])\n",
    "\n",
    "                res_train = model.predict(df_train[train_index])\n",
    "                res_valid = model.predict(df_train[valid_index])\n",
    "\n",
    "                acc_train += float(sum(res_train == df_label[train_index]) / len(train_index))\n",
    "                acc_valid += float(sum(res_valid == df_label[valid_index]) / len(valid_index))\n",
    "                 \n",
    "                score=(acc_valid/K)\n",
    "                #if score > best_score:\n",
    "                    #best_score = score\n",
    "                    #c_best=C\n",
    "                    #gamma_best=gamma\n",
    "                    \n",
    "#print('Highest Accuracy Score: ', best_score) \n",
    "#print('C=: ', c_best) \n",
    "#print('gamma=: ', gamma_best)\n",
    "\n",
    "\n",
    "print('ACC using SVM: ' + str(acc_train / K) + ' | ' + 'Valid: ' + str(acc_valid / K))\n",
    "\n",
    "print('Label of testing data are:')\n",
    "print(model.predict(df_test))\n"
   ]
  },
  {
   "cell_type": "code",
   "execution_count": null,
   "id": "23250f9f",
   "metadata": {},
   "outputs": [],
   "source": [
    "import numpy as np\n",
    "import os\n",
    "from scipy.io import loadmat\n",
    "from sklearn.model_selection import KFold\n",
    "from sklearn.svm import SVC\n",
    "\n",
    "\n",
    "\n",
    "df_train = loadmat( 'data_train.mat')['data_train']\n",
    "df_test = loadmat('data_test.mat')['data_test']\n",
    "df_label = loadmat( 'label_train.mat')['label_train'].squeeze()\n",
    "K = 4\n",
    "kf = KFold(n_splits=K, shuffle=False)\n",
    "acc_train = 0\n",
    "acc_valid = 0\n",
    "best_score=0\n",
    "c_best=0\n",
    "gamma_best=0\n",
    "for C in np.arange(0.05, 3, 0.05):\n",
    "     for gamma in np.arange(0.01, 1, 0.01):\n",
    "          classifier = SVC(kernel='rbf', gamma=gamma, C=C)\n",
    "         classifier.fit(X_train, y_train)\n",
    "         score = classifier.score(X_test, y_test)\n",
    "         if score > best_score:\n",
    "         best_score = score\n",
    "         c_best=C\n",
    "         gamma_best=gamma\n",
    "print('Highest Accuracy Score: ', best_score) \n",
    "print('C=: ', c_best) \n",
    "print('gamma=: ', gamma_best)"
   ]
  },
  {
   "cell_type": "code",
   "execution_count": null,
   "id": "1b006ce2",
   "metadata": {},
   "outputs": [],
   "source": []
  },
  {
   "cell_type": "code",
   "execution_count": null,
   "id": "0acbe219",
   "metadata": {},
   "outputs": [],
   "source": []
  },
  {
   "cell_type": "code",
   "execution_count": null,
   "id": "a4c03230",
   "metadata": {},
   "outputs": [],
   "source": []
  },
  {
   "cell_type": "code",
   "execution_count": null,
   "id": "af046b37",
   "metadata": {},
   "outputs": [],
   "source": []
  }
 ],
 "metadata": {
  "kernelspec": {
   "display_name": "Python 3",
   "language": "python",
   "name": "python3"
  },
  "language_info": {
   "codemirror_mode": {
    "name": "ipython",
    "version": 3
   },
   "file_extension": ".py",
   "mimetype": "text/x-python",
   "name": "python",
   "nbconvert_exporter": "python",
   "pygments_lexer": "ipython3",
   "version": "3.8.8"
  }
 },
 "nbformat": 4,
 "nbformat_minor": 5
}
